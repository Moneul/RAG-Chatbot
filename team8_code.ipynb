{
 "cells": [
  {
   "cell_type": "code",
   "execution_count": 1,
   "metadata": {},
   "outputs": [
    {
     "name": "stderr",
     "output_type": "stream",
     "text": [
      "c:\\Users\\몬에울\\AppData\\Local\\Programs\\Python\\Python310\\lib\\site-packages\\tqdm\\auto.py:21: TqdmWarning: IProgress not found. Please update jupyter and ipywidgets. See https://ipywidgets.readthedocs.io/en/stable/user_install.html\n",
      "  from .autonotebook import tqdm as notebook_tqdm\n"
     ]
    },
    {
     "name": "stdout",
     "output_type": "stream",
     "text": [
      "Running on local URL:  http://127.0.0.1:7860\n",
      "\n",
      "Could not create share link. Please check your internet connection or our status page: https://status.gradio.app.\n"
     ]
    },
    {
     "data": {
      "text/html": [
       "<div><iframe src=\"http://127.0.0.1:7860/\" width=\"100%\" height=\"500\" allow=\"autoplay; camera; microphone; clipboard-read; clipboard-write;\" frameborder=\"0\" allowfullscreen></iframe></div>"
      ],
      "text/plain": [
       "<IPython.core.display.HTML object>"
      ]
     },
     "metadata": {},
     "output_type": "display_data"
    },
    {
     "data": {
      "text/plain": []
     },
     "execution_count": 1,
     "metadata": {},
     "output_type": "execute_result"
    }
   ],
   "source": [
    "import gradio as gr\n",
    "import eight\n",
    "\n",
    "with gr.Blocks() as demo:\n",
    "    gr.Markdown(\"<h1 align='center'>Eight! Chat</h1>\")\n",
    "    with gr.Row():\n",
    "        with gr.Column(scale=7):\n",
    "            with gr.Row():\n",
    "                chatbot = gr.Chatbot(height=500)\n",
    "            with gr.Row():\n",
    "                btn_record = gr.Button(value=\"녹음\", min_width=40)\n",
    "                user_input = gr.Textbox(label=\"\", min_width=400, scale=8)\n",
    "                btn_send = gr.Button(value=\"전송\", min_width=80)\n",
    "            with gr.Row():\n",
    "                input_img = gr.Image(type=\"pil\")\n",
    "\n",
    "        with gr.Column(scale=3):\n",
    "            gr.Markdown(\"<h1 align='center'>참조</h1>\")\n",
    "            citation = gr.HTML(label=\"\")\n",
    "\n",
    "    user_input.submit(fn=eight.chatbot_response, inputs=[user_input, chatbot], outputs=[user_input, chatbot, citation])\n",
    "    btn_send.click(fn=eight.chatbot_response, inputs=[user_input, chatbot], outputs=[user_input, chatbot, citation])\n",
    "    btn_record.click(fn=eight.voice2text, inputs=[], outputs=[user_input])\n",
    "    input_img.upload(fn=eight.predict_image, inputs=[input_img, chatbot], outputs=[chatbot, citation])\n",
    "demo.launch(share=True)"
   ]
  }
 ],
 "metadata": {
  "kernelspec": {
   "display_name": "Python 3",
   "language": "python",
   "name": "python3"
  },
  "language_info": {
   "codemirror_mode": {
    "name": "ipython",
    "version": 3
   },
   "file_extension": ".py",
   "mimetype": "text/x-python",
   "name": "python",
   "nbconvert_exporter": "python",
   "pygments_lexer": "ipython3",
   "version": "3.10.11"
  }
 },
 "nbformat": 4,
 "nbformat_minor": 2
}
